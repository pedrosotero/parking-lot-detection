{
 "cells": [
  {
   "cell_type": "code",
   "execution_count": 1,
   "metadata": {},
   "outputs": [],
   "source": [
    "import cv2\n",
    "import numpy as np\n",
    "import matplotlib.pyplot as plt\n",
    "import os\n",
    "from sklearn.cluster import KMeans\n",
    "from utils import *\n",
    "import pickle\n",
    "import pandas as pd"
   ]
  },
  {
   "cell_type": "markdown",
   "metadata": {},
   "source": [
    "# Carregando o modelo de clusterização e o de classificação"
   ]
  },
  {
   "cell_type": "code",
   "execution_count": 2,
   "metadata": {},
   "outputs": [],
   "source": [
    "with open('modelos/kmeans.pkl', 'rb') as f:\n",
    "    kmeans = pickle.load(f)\n",
    "\n",
    "with open('modelos/pipeline.pkl', 'rb') as f:\n",
    "    pipeline = pickle.load(f)\n",
    "\n",
    "no_clusters = 200"
   ]
  },
  {
   "cell_type": "code",
   "execution_count": 3,
   "metadata": {},
   "outputs": [],
   "source": [
    "def calcular_pontos_retangulo(ponto1, ponto2):\n",
    "    x1, y1 = ponto1\n",
    "    x2, y2 = ponto2\n",
    "    \n",
    "    return [y1, y2, x1, x2]"
   ]
  },
  {
   "cell_type": "markdown",
   "metadata": {},
   "source": [
    "# Definições das vagas"
   ]
  },
  {
   "cell_type": "code",
   "execution_count": 4,
   "metadata": {},
   "outputs": [],
   "source": [
    "video = 'curto'\n",
    "offset = 0 if video == 'curto' else 70\n",
    "\n",
    "vagas = np.array([\n",
    "    [(79, 394 + offset), (288, 667 + offset)],\n",
    "    [(526, 394 + offset),(694, 667 + offset)],\n",
    "    [(727, 394 + offset), (979, 667 + offset)],\n",
    "    [(1001, 394 + offset), (1176, 667 + offset)],\n",
    "    [(1215, 394 + offset), (1378, 667 + offset)],\n",
    "    [(1422, 394 + offset), (1591, 667 + offset)]\n",
    "], np.int32)\n",
    "\n",
    "crop = [None for _ in vagas]\n",
    "descriptores = [None for _ in vagas]\n",
    "features = [None for _ in vagas]\n",
    "\n",
    "sift = cv2.SIFT_create()\n"
   ]
  },
  {
   "cell_type": "markdown",
   "metadata": {},
   "source": [
    "# Aplicação do método em tempo real"
   ]
  },
  {
   "cell_type": "code",
   "execution_count": 8,
   "metadata": {},
   "outputs": [],
   "source": [
    "video_path = f\"videos/{video}.mp4\"\n",
    "\n",
    "# Função de callback para capturar o clique do mouse\n",
    "def mouse_callback(event, x, y, flags, param):\n",
    "    if event == cv2.EVENT_LBUTTONDOWN:  \n",
    "        print(f\"Coordenadas: ({x}, {y})\")\n",
    "\n",
    "cap = cv2.VideoCapture(video_path)\n",
    "\n",
    "if not cap.isOpened():\n",
    "    print(\"Erro ao abrir o vídeo\")\n",
    "else:\n",
    "    cv2.namedWindow('Video')\n",
    "    cv2.setMouseCallback('Video', mouse_callback)\n",
    "    fps = cap.get(cv2.CAP_PROP_FPS)\n",
    "\n",
    "    tempo_ocupado = [0 for _ in vagas]\n",
    "    frames_ocupados = [0 for _ in vagas]\n",
    "    ocupacao = [0 for _ in vagas]\n",
    "    \n",
    "    contador = 0\n",
    "    while cap.isOpened():\n",
    "        ret, frame = cap.read()\n",
    "        if ret:\n",
    "            novo_frame = frame.copy()\n",
    "\n",
    "            if contador == 0:\n",
    "                for i, vaga in enumerate(vagas):\n",
    "                    p = calcular_pontos_retangulo(vaga[0], vaga[1])\n",
    "                    crop[i] = frame[p[0]:p[1], p[2]:p[3]]\n",
    "\n",
    "                    img = readImage(crop[i])\n",
    "                    des = getDescriptors(sift, img)\n",
    "\n",
    "                    if des is not None:\n",
    "                        descriptores[i] = des\n",
    "                    else:\n",
    "                        descriptores[i] = np.zeros((1, sift.descriptorSize()), np.float32)\n",
    "\n",
    "                    #cv2.imshow(f'crop_{i}', crop[i])\n",
    "\n",
    "                novo_im_features = extractFeatures(kmeans, descriptores, no_clusters)\n",
    "                pred = pipeline.predict(novo_im_features)\n",
    "\n",
    "            if contador < 60:\n",
    "                contador += 1\n",
    "            else:\n",
    "                contador = 0\n",
    "            \n",
    "            for i, vaga in enumerate(vagas):\n",
    "                if pred[i] == 1:\n",
    "                    frames_ocupados[i] += 1\n",
    "                    ocupacao[i] = 1\n",
    "                else:\n",
    "                    ocupacao[i] = 0\n",
    "                \n",
    "                tempo_ocupado[i] = frames_ocupados[i] // fps\n",
    "\n",
    "                cv2.rectangle(novo_frame, vaga[0], vaga[1], color=(0, 255, 0) if not ocupacao[i] else (0, 0, 255), thickness=2)\n",
    "\n",
    "                novo_frame = cv2.putText(novo_frame, f'{int(tempo_ocupado[i] // 60):02}:{int(tempo_ocupado[i] % 60):02}', \n",
    "                                         ponto_central_retangulo(vaga[0], vaga[1]), cv2.FONT_HERSHEY_SIMPLEX, \n",
    "                                         1, (0, 255, 0) if not ocupacao[i] else (0, 0, 255), 2, cv2.LINE_AA)\n",
    "            \n",
    "            novo_frame = cv2.putText(novo_frame,f'Total de vagas: {len(vagas)}', (1566, 50), cv2.FONT_HERSHEY_COMPLEX, 1, (0, 255, 0), 2, cv2.LINE_AA)\n",
    "            novo_frame = cv2.putText(novo_frame,f'Vagas ocupadas: {np.sum(ocupacao)}', (1566, 90), cv2.FONT_HERSHEY_COMPLEX, 1, (0, 255, 0), 2, cv2.LINE_AA) \n",
    "            novo_frame = cv2.putText(novo_frame,f'Ocupacao: {np.sum(ocupacao) / len(vagas) * 100:.2f}%', (1566, 130), cv2.FONT_HERSHEY_COMPLEX, 1, (0, 255, 0), 2, cv2.LINE_AA) \n",
    "\n",
    "            cv2.imshow('Video', novo_frame)\n",
    "\n",
    "            # Pressione 'q' para sair do loop e fechar a janela\n",
    "            if cv2.waitKey(3) & 0xFF == ord('q'):\n",
    "                break\n",
    "        else:\n",
    "            break\n",
    "\n",
    "# Libera o objeto de captura e fecha todas as janelas abertas\n",
    "cap.release()\n",
    "cv2.destroyAllWindows()\n"
   ]
  },
  {
   "cell_type": "markdown",
   "metadata": {},
   "source": [
    "# Aplica o método e salva o vídeo resultante"
   ]
  },
  {
   "cell_type": "code",
   "execution_count": 11,
   "metadata": {},
   "outputs": [
    {
     "name": "stdout",
     "output_type": "stream",
     "text": [
      "29.97002997002997\n",
      "1.0\n"
     ]
    }
   ],
   "source": [
    "video_path = f\"videos/{video}.mp4\" \n",
    "output_path = f\"videos/resultado_{video}.avi\"\n",
    "\n",
    "cap = cv2.VideoCapture(video_path)\n",
    "\n",
    "if not cap.isOpened():\n",
    "    print(\"Erro ao abrir o vídeo\")\n",
    "else:\n",
    "\n",
    "    frame_width = int(cap.get(cv2.CAP_PROP_FRAME_WIDTH))\n",
    "    frame_height = int(cap.get(cv2.CAP_PROP_FRAME_HEIGHT))\n",
    "    fps = cap.get(cv2.CAP_PROP_FPS)\n",
    "    print(fps)\n",
    "\n",
    "    fourcc =  cv2.VideoWriter_fourcc(*'XVID')\n",
    "    out = cv2.VideoWriter(output_path, fourcc, fps, (frame_width, frame_height))\n",
    "\n",
    "    tempo_ocupado = [0 for _ in vagas]\n",
    "    frames_ocupados = [0 for _ in vagas]\n",
    "    ocupacao = [0 for _ in vagas]\n",
    "    indices = []\n",
    "    serie_temporal = []\n",
    "\n",
    "    contador = 0\n",
    "    while cap.isOpened():\n",
    "        ret, frame = cap.read()\n",
    "        \n",
    "        if ret:\n",
    "\n",
    "            novo_frame = frame.copy()\n",
    "\n",
    "            if contador == 0:\n",
    "                for i, vaga in enumerate(vagas):\n",
    "                    p = calcular_pontos_retangulo(vaga[0], vaga[1])\n",
    "                    crop[i] = frame[p[0]:p[1], p[2]:p[3]]\n",
    "\n",
    "                    img = readImage(crop[i])\n",
    "                    des = getDescriptors(sift, img)\n",
    "\n",
    "                    if des is not None:\n",
    "                        descriptores[i] = des\n",
    "                    else:\n",
    "                        descriptores[i] = np.zeros((1, sift.descriptorSize()), np.float32)\n",
    "\n",
    "                novo_im_features = extractFeatures(kmeans, descriptores, no_clusters)\n",
    "                pred = pipeline.predict(novo_im_features)\n",
    "\n",
    "            if contador < 15:\n",
    "                contador += 1\n",
    "            else:\n",
    "                contador = 0\n",
    "\n",
    "            for i, vaga in enumerate(vagas):\n",
    "                if pred[i] == 1:\n",
    "                    frames_ocupados[i] += 1\n",
    "                    ocupacao[i] = 1\n",
    "                else:\n",
    "                    ocupacao[i] = 0\n",
    "                \n",
    "                tempo_ocupado[i] = frames_ocupados[i] // fps\n",
    "\n",
    "                cv2.rectangle(novo_frame, vaga[0], vaga[1], color=(0, 255, 0) if not ocupacao[i] else (0, 0, 255), thickness=2)\n",
    "\n",
    "                novo_frame = cv2.putText(novo_frame, f'{int(tempo_ocupado[i] // 60):02}:{int(tempo_ocupado[i] % 60):02}', \n",
    "                                         ponto_central_retangulo(vaga[0], vaga[1]), cv2.FONT_HERSHEY_SIMPLEX, \n",
    "                                         1, (0, 255, 0) if not ocupacao[i] else (0, 0, 255), 2, cv2.LINE_AA)\n",
    "            \n",
    "            novo_frame = cv2.putText(novo_frame,f'Total de vagas: {len(vagas)}', (1566, 50), cv2.FONT_HERSHEY_COMPLEX, 1, (0, 255, 0), 2, cv2.LINE_AA)\n",
    "            novo_frame = cv2.putText(novo_frame,f'Vagas ocupadas: {np.sum(ocupacao)}', (1566, 90), cv2.FONT_HERSHEY_COMPLEX, 1, (0, 255, 0), 2, cv2.LINE_AA) \n",
    "            novo_frame = cv2.putText(novo_frame,f'Ocupacao: {np.sum(ocupacao) / len(vagas) * 100:.2f}%', (1566, 130), cv2.FONT_HERSHEY_COMPLEX, 1, (0, 255, 0), 2, cv2.LINE_AA)\n",
    "\n",
    "            indices.append(cap.get(cv2.CAP_PROP_POS_FRAMES) / fps)\n",
    "            serie_temporal.append(ocupacao.copy())\n",
    "\n",
    "            out.write(novo_frame)\n",
    "\n",
    "        else:\n",
    "            print(cap.get(cv2.CAP_PROP_POS_FRAMES) / cap.get(cv2.CAP_PROP_FRAME_COUNT))\n",
    "            break\n",
    "\n",
    "cap.release()\n",
    "out.release()"
   ]
  },
  {
   "cell_type": "markdown",
   "metadata": {},
   "source": [
    "# Exporta dados csv"
   ]
  },
  {
   "cell_type": "code",
   "execution_count": 34,
   "metadata": {},
   "outputs": [],
   "source": [
    "pd.DataFrame(serie_temporal, index=indices).to_csv(f'dados/{video}_BOF.csv')"
   ]
  },
  {
   "cell_type": "code",
   "execution_count": null,
   "metadata": {},
   "outputs": [],
   "source": []
  }
 ],
 "metadata": {
  "kernelspec": {
   "display_name": "Python 3",
   "language": "python",
   "name": "python3"
  },
  "language_info": {
   "codemirror_mode": {
    "name": "ipython",
    "version": 3
   },
   "file_extension": ".py",
   "mimetype": "text/x-python",
   "name": "python",
   "nbconvert_exporter": "python",
   "pygments_lexer": "ipython3",
   "version": "3.9.6"
  }
 },
 "nbformat": 4,
 "nbformat_minor": 2
}
